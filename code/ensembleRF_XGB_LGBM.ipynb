{
 "cells": [
  {
   "cell_type": "code",
   "execution_count": 2,
   "metadata": {},
   "outputs": [],
   "source": [
    "import numpy as np\n",
    "import pandas as pd\n",
    "import matplotlib.pyplot as plt\n",
    "import seaborn as sns\n",
    "import os\n",
    "import lightgbm as lgb\n",
    "import math\n",
    "from sklearn.preprocessing import StandardScaler"
   ]
  },
  {
   "cell_type": "code",
   "execution_count": 3,
   "metadata": {},
   "outputs": [],
   "source": [
    "from sklearn.model_selection import train_test_split"
   ]
  },
  {
   "cell_type": "code",
   "execution_count": 4,
   "metadata": {},
   "outputs": [
    {
     "name": "stdout",
     "output_type": "stream",
     "text": [
      "/workspace/code\n"
     ]
    }
   ],
   "source": [
    "path = os.getcwd()\n",
    "print(path)"
   ]
  },
  {
   "cell_type": "code",
   "execution_count": 5,
   "metadata": {},
   "outputs": [],
   "source": [
    "pd.set_option('display.max_rows', 120)\n",
    "pd.set_option('display.max_columns', 120)"
   ]
  },
  {
   "cell_type": "code",
   "execution_count": null,
   "metadata": {},
   "outputs": [],
   "source": [
    "df_train = pd.read_csv('/workspace/data/train.csv')\n",
    "df_test =pd.read_csv('/workspace/data/test.csv')\n",
    "df_sample = pd.read_csv('/workspace/data/sample_submission.csv')"
   ]
  },
  {
   "cell_type": "code",
   "execution_count": 7,
   "metadata": {},
   "outputs": [
    {
     "data": {
      "text/html": [
       "<div>\n",
       "<style scoped>\n",
       "    .dataframe tbody tr th:only-of-type {\n",
       "        vertical-align: middle;\n",
       "    }\n",
       "\n",
       "    .dataframe tbody tr th {\n",
       "        vertical-align: top;\n",
       "    }\n",
       "\n",
       "    .dataframe thead th {\n",
       "        text-align: right;\n",
       "    }\n",
       "</style>\n",
       "<table border=\"1\" class=\"dataframe\">\n",
       "  <thead>\n",
       "    <tr style=\"text-align: right;\">\n",
       "      <th></th>\n",
       "      <th>PassengerId</th>\n",
       "      <th>Survived</th>\n",
       "      <th>Pclass</th>\n",
       "      <th>Name</th>\n",
       "      <th>Sex</th>\n",
       "      <th>Age</th>\n",
       "      <th>SibSp</th>\n",
       "      <th>Parch</th>\n",
       "      <th>Ticket</th>\n",
       "      <th>Fare</th>\n",
       "      <th>Cabin</th>\n",
       "      <th>Embarked</th>\n",
       "    </tr>\n",
       "  </thead>\n",
       "  <tbody>\n",
       "    <tr>\n",
       "      <th>0</th>\n",
       "      <td>0</td>\n",
       "      <td>1</td>\n",
       "      <td>1</td>\n",
       "      <td>Oconnor, Frankie</td>\n",
       "      <td>male</td>\n",
       "      <td>NaN</td>\n",
       "      <td>2</td>\n",
       "      <td>0</td>\n",
       "      <td>209245</td>\n",
       "      <td>27.14</td>\n",
       "      <td>C12239</td>\n",
       "      <td>S</td>\n",
       "    </tr>\n",
       "    <tr>\n",
       "      <th>1</th>\n",
       "      <td>1</td>\n",
       "      <td>0</td>\n",
       "      <td>3</td>\n",
       "      <td>Bryan, Drew</td>\n",
       "      <td>male</td>\n",
       "      <td>NaN</td>\n",
       "      <td>0</td>\n",
       "      <td>0</td>\n",
       "      <td>27323</td>\n",
       "      <td>13.35</td>\n",
       "      <td>NaN</td>\n",
       "      <td>S</td>\n",
       "    </tr>\n",
       "    <tr>\n",
       "      <th>2</th>\n",
       "      <td>2</td>\n",
       "      <td>0</td>\n",
       "      <td>3</td>\n",
       "      <td>Owens, Kenneth</td>\n",
       "      <td>male</td>\n",
       "      <td>0.33</td>\n",
       "      <td>1</td>\n",
       "      <td>2</td>\n",
       "      <td>CA 457703</td>\n",
       "      <td>71.29</td>\n",
       "      <td>NaN</td>\n",
       "      <td>S</td>\n",
       "    </tr>\n",
       "    <tr>\n",
       "      <th>3</th>\n",
       "      <td>3</td>\n",
       "      <td>0</td>\n",
       "      <td>3</td>\n",
       "      <td>Kramer, James</td>\n",
       "      <td>male</td>\n",
       "      <td>19.00</td>\n",
       "      <td>0</td>\n",
       "      <td>0</td>\n",
       "      <td>A. 10866</td>\n",
       "      <td>13.04</td>\n",
       "      <td>NaN</td>\n",
       "      <td>S</td>\n",
       "    </tr>\n",
       "    <tr>\n",
       "      <th>4</th>\n",
       "      <td>4</td>\n",
       "      <td>1</td>\n",
       "      <td>3</td>\n",
       "      <td>Bond, Michael</td>\n",
       "      <td>male</td>\n",
       "      <td>25.00</td>\n",
       "      <td>0</td>\n",
       "      <td>0</td>\n",
       "      <td>427635</td>\n",
       "      <td>7.76</td>\n",
       "      <td>NaN</td>\n",
       "      <td>S</td>\n",
       "    </tr>\n",
       "  </tbody>\n",
       "</table>\n",
       "</div>"
      ],
      "text/plain": [
       "   PassengerId  Survived  Pclass              Name   Sex    Age  SibSp  Parch  \\\n",
       "0            0         1       1  Oconnor, Frankie  male    NaN      2      0   \n",
       "1            1         0       3       Bryan, Drew  male    NaN      0      0   \n",
       "2            2         0       3    Owens, Kenneth  male   0.33      1      2   \n",
       "3            3         0       3     Kramer, James  male  19.00      0      0   \n",
       "4            4         1       3     Bond, Michael  male  25.00      0      0   \n",
       "\n",
       "      Ticket   Fare   Cabin Embarked  \n",
       "0     209245  27.14  C12239        S  \n",
       "1      27323  13.35     NaN        S  \n",
       "2  CA 457703  71.29     NaN        S  \n",
       "3   A. 10866  13.04     NaN        S  \n",
       "4     427635   7.76     NaN        S  "
      ]
     },
     "execution_count": 7,
     "metadata": {},
     "output_type": "execute_result"
    }
   ],
   "source": [
    "df_train.head()"
   ]
  },
  {
   "cell_type": "code",
   "execution_count": 8,
   "metadata": {},
   "outputs": [
    {
     "name": "stdout",
     "output_type": "stream",
     "text": [
      "<class 'pandas.core.frame.DataFrame'>\n",
      "RangeIndex: 100000 entries, 0 to 99999\n",
      "Data columns (total 12 columns):\n",
      " #   Column       Non-Null Count   Dtype  \n",
      "---  ------       --------------   -----  \n",
      " 0   PassengerId  100000 non-null  int64  \n",
      " 1   Survived     100000 non-null  int64  \n",
      " 2   Pclass       100000 non-null  int64  \n",
      " 3   Name         100000 non-null  object \n",
      " 4   Sex          100000 non-null  object \n",
      " 5   Age          96708 non-null   float64\n",
      " 6   SibSp        100000 non-null  int64  \n",
      " 7   Parch        100000 non-null  int64  \n",
      " 8   Ticket       95377 non-null   object \n",
      " 9   Fare         99866 non-null   float64\n",
      " 10  Cabin        32134 non-null   object \n",
      " 11  Embarked     99750 non-null   object \n",
      "dtypes: float64(2), int64(5), object(5)\n",
      "memory usage: 9.2+ MB\n"
     ]
    }
   ],
   "source": [
    "df_train.info()"
   ]
  },
  {
   "cell_type": "markdown",
   "metadata": {},
   "source": [
    "## ランダムフォレス,XGBboost,LightGBMでとりあえず学習(アンサンブル)"
   ]
  },
  {
   "cell_type": "markdown",
   "metadata": {},
   "source": [
    "### 欠損値補完&特徴量生成  "
   ]
  },
  {
   "cell_type": "markdown",
   "metadata": {},
   "source": [
    "#### Ageを欠損値補完＆ビニング"
   ]
  },
  {
   "cell_type": "code",
   "execution_count": 90,
   "metadata": {},
   "outputs": [],
   "source": [
    "# Ageの欠損値を男性、女性の中央値で補完\n",
    "df_train['Age'].mask(df_train['Age'].isnull() & (df_train['Sex'] == 'male'),df_train[(df_train['Age'].notnull()) & (df_train['Sex'] == 'male')]['Age'].median(),inplace=True)\n",
    "df_train['Age'].mask(df_train['Age'].isnull() & (df_train['Sex'] == 'female'),df_train[(df_train['Age'].notnull()) & (df_train['Sex'] == 'female')]['Age'].median(),inplace=True)"
   ]
  },
  {
   "cell_type": "code",
   "execution_count": 91,
   "metadata": {},
   "outputs": [],
   "source": [
    "#  年齢をビニングする値を10ずつ区分け(0~10, 10~20, 20~30・・・80)\n",
    "df_train['Age_bin'] = pd.cut(df_train['Age'],9,labels=[\"0-9\",\"10-19\",\"20-29\",\"30-39\",\"40-49\",\"50-59\",\"60-69\",\"70-79\",\"80-89\"])"
   ]
  },
  {
   "cell_type": "code",
   "execution_count": 92,
   "metadata": {},
   "outputs": [],
   "source": [
    "# Age列を削除\n",
    "df_train = df_train.drop(columns='Age')"
   ]
  },
  {
   "cell_type": "code",
   "execution_count": 25,
   "metadata": {},
   "outputs": [],
   "source": [
    "# テストデータも同様の処理を行う(ここ関数作るべき)"
   ]
  },
  {
   "cell_type": "code",
   "execution_count": 93,
   "metadata": {},
   "outputs": [],
   "source": [
    "df_test['Age'].mask(df_test['Age'].isnull() & (df_test['Sex'] == 'male'),df_test[(df_test['Age'].notnull()) & (df_test['Sex'] == 'male')]['Age'].median(),inplace=True)\n",
    "df_test['Age'].mask(df_test['Age'].isnull() & (df_test['Sex'] == 'female'),df_test[(df_test['Age'].notnull()) & (df_test['Sex'] == 'female')]['Age'].median(),inplace=True)"
   ]
  },
  {
   "cell_type": "code",
   "execution_count": 94,
   "metadata": {},
   "outputs": [],
   "source": [
    "df_test['Age_bin'] = pd.cut(df_test['Age'],9,labels=[\"0-9\",\"10-19\",\"20-29\",\"30-39\",\"40-49\",\"50-59\",\"60-69\",\"70-79\",\"80-89\"])"
   ]
  },
  {
   "cell_type": "code",
   "execution_count": 95,
   "metadata": {},
   "outputs": [],
   "source": [
    "df_test = df_test.drop(columns = 'Age')"
   ]
  },
  {
   "cell_type": "markdown",
   "metadata": {},
   "source": [
    "#### Deckを作成（Cabinの頭文字＝客室がどこら辺にあるかの特徴量を生成) "
   ]
  },
  {
   "cell_type": "code",
   "execution_count": 96,
   "metadata": {},
   "outputs": [],
   "source": [
    "def cabin_feat(df, col):\n",
    "    # 欠損値を「None」に変換\n",
    "    df[col] = df[col].fillna('None')\n",
    "    \n",
    "    # 新しい特徴量を生成\n",
    "    df[f'has_{col}'] = df[col].apply(lambda x: 1 if x != 'None' else 0)\n",
    "    df['Deck'] = df[col].apply(lambda x: x[0])\n",
    "    df.drop(col, axis=1, inplace=True)\n",
    "    return df"
   ]
  },
  {
   "cell_type": "code",
   "execution_count": 97,
   "metadata": {},
   "outputs": [],
   "source": [
    "df_train = cabin_feat(df_train, 'Cabin')\n",
    "df_test = cabin_feat(df_test, 'Cabin')"
   ]
  },
  {
   "cell_type": "markdown",
   "metadata": {},
   "source": [
    "#### チケット番号の文字を抽出"
   ]
  },
  {
   "cell_type": "code",
   "execution_count": 98,
   "metadata": {},
   "outputs": [],
   "source": [
    "# 文字列を「空白」で分割する　返り値はリスト型\n",
    "def str_split(x):\n",
    "    if len(str(x).split()) > 1:\n",
    "        # リストの要素数が2より大きい場合は最初の要素を返す\n",
    "        return str(x).split()[0]\n",
    "    else: return 'N'"
   ]
  },
  {
   "cell_type": "code",
   "execution_count": 99,
   "metadata": {},
   "outputs": [],
   "source": [
    "# mapはpandasのSeriesに関数を適用する\n",
    "df_train['Ticket'] = df_train['Ticket'].map(str_split)\n",
    "df_test['Ticket'] = df_test['Ticket'].map(str_split)"
   ]
  },
  {
   "cell_type": "markdown",
   "metadata": {},
   "source": [
    "#### Nameを「,」で分割してlastname(名字)の特徴量を作成"
   ]
  },
  {
   "cell_type": "code",
   "execution_count": 100,
   "metadata": {},
   "outputs": [],
   "source": [
    "df_train['last_name'] = df_train['Name'].apply(lambda x: x.split(',')[0])\n",
    "df_test['last_name'] = df_test['Name'].apply(lambda x: x.split(',')[0])"
   ]
  },
  {
   "cell_type": "code",
   "execution_count": 101,
   "metadata": {},
   "outputs": [],
   "source": [
    "# Name列を削除\n",
    "df_train = df_train.drop(columns = 'Name')\n",
    "df_test = df_test.drop(columns = 'Name')"
   ]
  },
  {
   "cell_type": "markdown",
   "metadata": {},
   "source": [
    "#### Fare_binを作成 Fare(料金をビニング)"
   ]
  },
  {
   "cell_type": "code",
   "execution_count": 102,
   "metadata": {},
   "outputs": [],
   "source": [
    "#欠損値を中央値で埋める\n",
    "df_train['Fare']= df_train['Fare'].fillna(df_train['Fare'].median())\n",
    "df_test['Fare'] = df_test['Fare'].fillna(df_test['Fare'].median())"
   ]
  },
  {
   "cell_type": "code",
   "execution_count": 103,
   "metadata": {},
   "outputs": [],
   "source": [
    "# 50ドル以下の生存率が低いため下記のような区分でビニングする\n",
    "def Fare_bin(x):\n",
    "    if x <=50:\n",
    "        return 'very low'\n",
    "    elif  50 < x <= 150:\n",
    "        return 'low'\n",
    "    elif 150 < x <= 300:\n",
    "        return 'middle'\n",
    "    else:\n",
    "        return 'high'"
   ]
  },
  {
   "cell_type": "code",
   "execution_count": 104,
   "metadata": {},
   "outputs": [],
   "source": [
    "df_train['Fare_bin'] = df_train['Fare'].apply(Fare_bin)\n",
    "df_test['Fare_bin'] = df_test['Fare'].apply(Fare_bin)"
   ]
  },
  {
   "cell_type": "code",
   "execution_count": 105,
   "metadata": {},
   "outputs": [],
   "source": [
    "df_train = df_train.drop(columns = 'Fare')\n",
    "df_test = df_test.drop(columns = 'Fare')"
   ]
  },
  {
   "cell_type": "markdown",
   "metadata": {},
   "source": [
    "#### Family_size　家族の大きさ(何人家族か)の特徴量を作成  \n",
    "Sibsp + Parch +1(自分)がFamily_size"
   ]
  },
  {
   "cell_type": "code",
   "execution_count": 106,
   "metadata": {},
   "outputs": [],
   "source": [
    "df_train['Family_Size'] = df_train['SibSp']+df_train['Parch']+1\n",
    "df_test['Family_Size'] =  df_test['SibSp']+df_test['Parch']+1"
   ]
  },
  {
   "cell_type": "code",
   "execution_count": 107,
   "metadata": {},
   "outputs": [],
   "source": [
    "# Family_sizeを定義する関数\n",
    "def family_size(x):\n",
    "    if x == 1:\n",
    "        return 'Alone'\n",
    "    elif  0 < x <= 5:\n",
    "        return 'small'\n",
    "    elif  5 < x <= 10:\n",
    "        return 'middle'\n",
    "    else:\n",
    "        return 'large'"
   ]
  },
  {
   "cell_type": "code",
   "execution_count": 108,
   "metadata": {},
   "outputs": [],
   "source": [
    "df_train['Family_Size'] = df_train['Family_Size'].apply(family_size)\n",
    "df_test['Family_Size'] = df_test['Family_Size'].apply(family_size)"
   ]
  },
  {
   "cell_type": "markdown",
   "metadata": {},
   "source": [
    "#### Embarked(出港地)の欠損値を補完(最頻値)"
   ]
  },
  {
   "cell_type": "code",
   "execution_count": 55,
   "metadata": {},
   "outputs": [
    {
     "data": {
      "text/plain": [
       "'S'"
      ]
     },
     "execution_count": 55,
     "metadata": {},
     "output_type": "execute_result"
    }
   ],
   "source": [
    "df_train['Embarked'].mode()[0]"
   ]
  },
  {
   "cell_type": "code",
   "execution_count": 109,
   "metadata": {},
   "outputs": [],
   "source": [
    "df_train['Embarked'] = df_train['Embarked'].fillna(df_train['Embarked'].mode()[0])\n",
    "df_test['Embarked'] = df_test['Embarked'].fillna(df_test['Embarked'].mode()[0])"
   ]
  },
  {
   "cell_type": "markdown",
   "metadata": {},
   "source": [
    "### カテゴリ変数を変換する  \n",
    "ワンホットエンコーディング:Sex,Embarked,Deck,Age_bin,Fare_bin,Family_size \n",
    "ラベルエンコーディング:Ticket,last_name"
   ]
  },
  {
   "cell_type": "code",
   "execution_count": 111,
   "metadata": {},
   "outputs": [],
   "source": [
    "label_list = ['Ticket', 'last_name','Family_Size']"
   ]
  },
  {
   "cell_type": "code",
   "execution_count": 112,
   "metadata": {},
   "outputs": [],
   "source": [
    "# ラベルエンコーディング\n",
    "from sklearn.preprocessing import OrdinalEncoder\n",
    "oe = OrdinalEncoder()"
   ]
  },
  {
   "cell_type": "code",
   "execution_count": 113,
   "metadata": {},
   "outputs": [],
   "source": [
    "df_train[label_list] = oe.fit_transform(df_train[label_list].values)\n",
    "df_test[label_list] = oe.fit_transform(df_test[label_list].values)"
   ]
  },
  {
   "cell_type": "code",
   "execution_count": 114,
   "metadata": {},
   "outputs": [],
   "source": [
    "# ワンホットエンコーディング\n",
    "dummie_list = ['Sex','Embarked','Age_bin','Deck','Fare_bin']"
   ]
  },
  {
   "cell_type": "code",
   "execution_count": 117,
   "metadata": {},
   "outputs": [],
   "source": [
    "# 特徴量をダミー変数にする関数\n",
    "def convert_columns(df, cols):\n",
    "    \n",
    "    dummies_df = pd.get_dummies(df[cols], drop_first=True)\n",
    "    df.drop(cols, axis=1, inplace=True)\n",
    "    new_df = pd.concat([df, dummies_df], axis=1)\n",
    "    return new_df"
   ]
  },
  {
   "cell_type": "code",
   "execution_count": 118,
   "metadata": {},
   "outputs": [],
   "source": [
    "df_train = convert_columns(df_train,dummie_list)\n",
    "df_test = convert_columns(df_test,dummie_list)"
   ]
  },
  {
   "cell_type": "markdown",
   "metadata": {},
   "source": [
    "### 欠損値補完、特徴量生成、カテゴリ変数の変換完了"
   ]
  },
  {
   "cell_type": "code",
   "execution_count": 124,
   "metadata": {},
   "outputs": [
    {
     "data": {
      "text/html": [
       "<div>\n",
       "<style scoped>\n",
       "    .dataframe tbody tr th:only-of-type {\n",
       "        vertical-align: middle;\n",
       "    }\n",
       "\n",
       "    .dataframe tbody tr th {\n",
       "        vertical-align: top;\n",
       "    }\n",
       "\n",
       "    .dataframe thead th {\n",
       "        text-align: right;\n",
       "    }\n",
       "</style>\n",
       "<table border=\"1\" class=\"dataframe\">\n",
       "  <thead>\n",
       "    <tr style=\"text-align: right;\">\n",
       "      <th></th>\n",
       "      <th>PassengerId</th>\n",
       "      <th>Survived</th>\n",
       "      <th>Pclass</th>\n",
       "      <th>SibSp</th>\n",
       "      <th>Parch</th>\n",
       "      <th>Ticket</th>\n",
       "      <th>has_Cabin</th>\n",
       "      <th>last_name</th>\n",
       "      <th>Family_Size</th>\n",
       "      <th>Sex_male</th>\n",
       "      <th>Embarked_Q</th>\n",
       "      <th>Embarked_S</th>\n",
       "      <th>Age_bin_10-19</th>\n",
       "      <th>Age_bin_20-29</th>\n",
       "      <th>Age_bin_30-39</th>\n",
       "      <th>Age_bin_40-49</th>\n",
       "      <th>Age_bin_50-59</th>\n",
       "      <th>Age_bin_60-69</th>\n",
       "      <th>Age_bin_70-79</th>\n",
       "      <th>Age_bin_80-89</th>\n",
       "      <th>Deck_B</th>\n",
       "      <th>Deck_C</th>\n",
       "      <th>Deck_D</th>\n",
       "      <th>Deck_E</th>\n",
       "      <th>Deck_F</th>\n",
       "      <th>Deck_G</th>\n",
       "      <th>Deck_N</th>\n",
       "      <th>Deck_T</th>\n",
       "      <th>Fare_bin_low</th>\n",
       "      <th>Fare_bin_middle</th>\n",
       "      <th>Fare_bin_very low</th>\n",
       "    </tr>\n",
       "  </thead>\n",
       "  <tbody>\n",
       "    <tr>\n",
       "      <th>0</th>\n",
       "      <td>0</td>\n",
       "      <td>1</td>\n",
       "      <td>1</td>\n",
       "      <td>2</td>\n",
       "      <td>0</td>\n",
       "      <td>20.0</td>\n",
       "      <td>1</td>\n",
       "      <td>14195.0</td>\n",
       "      <td>3.0</td>\n",
       "      <td>1</td>\n",
       "      <td>0</td>\n",
       "      <td>1</td>\n",
       "      <td>0</td>\n",
       "      <td>0</td>\n",
       "      <td>1</td>\n",
       "      <td>0</td>\n",
       "      <td>0</td>\n",
       "      <td>0</td>\n",
       "      <td>0</td>\n",
       "      <td>0</td>\n",
       "      <td>0</td>\n",
       "      <td>1</td>\n",
       "      <td>0</td>\n",
       "      <td>0</td>\n",
       "      <td>0</td>\n",
       "      <td>0</td>\n",
       "      <td>0</td>\n",
       "      <td>0</td>\n",
       "      <td>0</td>\n",
       "      <td>0</td>\n",
       "      <td>1</td>\n",
       "    </tr>\n",
       "    <tr>\n",
       "      <th>1</th>\n",
       "      <td>1</td>\n",
       "      <td>0</td>\n",
       "      <td>3</td>\n",
       "      <td>0</td>\n",
       "      <td>0</td>\n",
       "      <td>20.0</td>\n",
       "      <td>0</td>\n",
       "      <td>2495.0</td>\n",
       "      <td>0.0</td>\n",
       "      <td>1</td>\n",
       "      <td>0</td>\n",
       "      <td>1</td>\n",
       "      <td>0</td>\n",
       "      <td>0</td>\n",
       "      <td>1</td>\n",
       "      <td>0</td>\n",
       "      <td>0</td>\n",
       "      <td>0</td>\n",
       "      <td>0</td>\n",
       "      <td>0</td>\n",
       "      <td>0</td>\n",
       "      <td>0</td>\n",
       "      <td>0</td>\n",
       "      <td>0</td>\n",
       "      <td>0</td>\n",
       "      <td>0</td>\n",
       "      <td>1</td>\n",
       "      <td>0</td>\n",
       "      <td>0</td>\n",
       "      <td>0</td>\n",
       "      <td>1</td>\n",
       "    </tr>\n",
       "    <tr>\n",
       "      <th>2</th>\n",
       "      <td>2</td>\n",
       "      <td>0</td>\n",
       "      <td>3</td>\n",
       "      <td>1</td>\n",
       "      <td>2</td>\n",
       "      <td>14.0</td>\n",
       "      <td>0</td>\n",
       "      <td>14478.0</td>\n",
       "      <td>3.0</td>\n",
       "      <td>1</td>\n",
       "      <td>0</td>\n",
       "      <td>1</td>\n",
       "      <td>0</td>\n",
       "      <td>0</td>\n",
       "      <td>0</td>\n",
       "      <td>0</td>\n",
       "      <td>0</td>\n",
       "      <td>0</td>\n",
       "      <td>0</td>\n",
       "      <td>0</td>\n",
       "      <td>0</td>\n",
       "      <td>0</td>\n",
       "      <td>0</td>\n",
       "      <td>0</td>\n",
       "      <td>0</td>\n",
       "      <td>0</td>\n",
       "      <td>1</td>\n",
       "      <td>0</td>\n",
       "      <td>1</td>\n",
       "      <td>0</td>\n",
       "      <td>0</td>\n",
       "    </tr>\n",
       "    <tr>\n",
       "      <th>3</th>\n",
       "      <td>3</td>\n",
       "      <td>0</td>\n",
       "      <td>3</td>\n",
       "      <td>0</td>\n",
       "      <td>0</td>\n",
       "      <td>0.0</td>\n",
       "      <td>0</td>\n",
       "      <td>10435.0</td>\n",
       "      <td>0.0</td>\n",
       "      <td>1</td>\n",
       "      <td>0</td>\n",
       "      <td>1</td>\n",
       "      <td>1</td>\n",
       "      <td>0</td>\n",
       "      <td>0</td>\n",
       "      <td>0</td>\n",
       "      <td>0</td>\n",
       "      <td>0</td>\n",
       "      <td>0</td>\n",
       "      <td>0</td>\n",
       "      <td>0</td>\n",
       "      <td>0</td>\n",
       "      <td>0</td>\n",
       "      <td>0</td>\n",
       "      <td>0</td>\n",
       "      <td>0</td>\n",
       "      <td>1</td>\n",
       "      <td>0</td>\n",
       "      <td>0</td>\n",
       "      <td>0</td>\n",
       "      <td>1</td>\n",
       "    </tr>\n",
       "    <tr>\n",
       "      <th>4</th>\n",
       "      <td>4</td>\n",
       "      <td>1</td>\n",
       "      <td>3</td>\n",
       "      <td>0</td>\n",
       "      <td>0</td>\n",
       "      <td>20.0</td>\n",
       "      <td>0</td>\n",
       "      <td>1902.0</td>\n",
       "      <td>0.0</td>\n",
       "      <td>1</td>\n",
       "      <td>0</td>\n",
       "      <td>1</td>\n",
       "      <td>0</td>\n",
       "      <td>1</td>\n",
       "      <td>0</td>\n",
       "      <td>0</td>\n",
       "      <td>0</td>\n",
       "      <td>0</td>\n",
       "      <td>0</td>\n",
       "      <td>0</td>\n",
       "      <td>0</td>\n",
       "      <td>0</td>\n",
       "      <td>0</td>\n",
       "      <td>0</td>\n",
       "      <td>0</td>\n",
       "      <td>0</td>\n",
       "      <td>1</td>\n",
       "      <td>0</td>\n",
       "      <td>0</td>\n",
       "      <td>0</td>\n",
       "      <td>1</td>\n",
       "    </tr>\n",
       "    <tr>\n",
       "      <th>...</th>\n",
       "      <td>...</td>\n",
       "      <td>...</td>\n",
       "      <td>...</td>\n",
       "      <td>...</td>\n",
       "      <td>...</td>\n",
       "      <td>...</td>\n",
       "      <td>...</td>\n",
       "      <td>...</td>\n",
       "      <td>...</td>\n",
       "      <td>...</td>\n",
       "      <td>...</td>\n",
       "      <td>...</td>\n",
       "      <td>...</td>\n",
       "      <td>...</td>\n",
       "      <td>...</td>\n",
       "      <td>...</td>\n",
       "      <td>...</td>\n",
       "      <td>...</td>\n",
       "      <td>...</td>\n",
       "      <td>...</td>\n",
       "      <td>...</td>\n",
       "      <td>...</td>\n",
       "      <td>...</td>\n",
       "      <td>...</td>\n",
       "      <td>...</td>\n",
       "      <td>...</td>\n",
       "      <td>...</td>\n",
       "      <td>...</td>\n",
       "      <td>...</td>\n",
       "      <td>...</td>\n",
       "      <td>...</td>\n",
       "    </tr>\n",
       "    <tr>\n",
       "      <th>99995</th>\n",
       "      <td>99995</td>\n",
       "      <td>1</td>\n",
       "      <td>2</td>\n",
       "      <td>0</td>\n",
       "      <td>0</td>\n",
       "      <td>22.0</td>\n",
       "      <td>1</td>\n",
       "      <td>1301.0</td>\n",
       "      <td>0.0</td>\n",
       "      <td>0</td>\n",
       "      <td>0</td>\n",
       "      <td>0</td>\n",
       "      <td>0</td>\n",
       "      <td>0</td>\n",
       "      <td>0</td>\n",
       "      <td>0</td>\n",
       "      <td>0</td>\n",
       "      <td>1</td>\n",
       "      <td>0</td>\n",
       "      <td>0</td>\n",
       "      <td>0</td>\n",
       "      <td>0</td>\n",
       "      <td>1</td>\n",
       "      <td>0</td>\n",
       "      <td>0</td>\n",
       "      <td>0</td>\n",
       "      <td>0</td>\n",
       "      <td>0</td>\n",
       "      <td>0</td>\n",
       "      <td>0</td>\n",
       "      <td>1</td>\n",
       "    </tr>\n",
       "    <tr>\n",
       "      <th>99996</th>\n",
       "      <td>99996</td>\n",
       "      <td>0</td>\n",
       "      <td>2</td>\n",
       "      <td>0</td>\n",
       "      <td>0</td>\n",
       "      <td>20.0</td>\n",
       "      <td>0</td>\n",
       "      <td>2436.0</td>\n",
       "      <td>0.0</td>\n",
       "      <td>1</td>\n",
       "      <td>0</td>\n",
       "      <td>1</td>\n",
       "      <td>0</td>\n",
       "      <td>0</td>\n",
       "      <td>0</td>\n",
       "      <td>0</td>\n",
       "      <td>0</td>\n",
       "      <td>1</td>\n",
       "      <td>0</td>\n",
       "      <td>0</td>\n",
       "      <td>0</td>\n",
       "      <td>0</td>\n",
       "      <td>0</td>\n",
       "      <td>0</td>\n",
       "      <td>0</td>\n",
       "      <td>0</td>\n",
       "      <td>1</td>\n",
       "      <td>0</td>\n",
       "      <td>0</td>\n",
       "      <td>0</td>\n",
       "      <td>1</td>\n",
       "    </tr>\n",
       "    <tr>\n",
       "      <th>99997</th>\n",
       "      <td>99997</td>\n",
       "      <td>0</td>\n",
       "      <td>3</td>\n",
       "      <td>0</td>\n",
       "      <td>0</td>\n",
       "      <td>20.0</td>\n",
       "      <td>0</td>\n",
       "      <td>3463.0</td>\n",
       "      <td>0.0</td>\n",
       "      <td>1</td>\n",
       "      <td>0</td>\n",
       "      <td>1</td>\n",
       "      <td>0</td>\n",
       "      <td>0</td>\n",
       "      <td>1</td>\n",
       "      <td>0</td>\n",
       "      <td>0</td>\n",
       "      <td>0</td>\n",
       "      <td>0</td>\n",
       "      <td>0</td>\n",
       "      <td>0</td>\n",
       "      <td>0</td>\n",
       "      <td>0</td>\n",
       "      <td>0</td>\n",
       "      <td>0</td>\n",
       "      <td>0</td>\n",
       "      <td>1</td>\n",
       "      <td>0</td>\n",
       "      <td>0</td>\n",
       "      <td>0</td>\n",
       "      <td>1</td>\n",
       "    </tr>\n",
       "    <tr>\n",
       "      <th>99998</th>\n",
       "      <td>99998</td>\n",
       "      <td>0</td>\n",
       "      <td>3</td>\n",
       "      <td>0</td>\n",
       "      <td>1</td>\n",
       "      <td>20.0</td>\n",
       "      <td>0</td>\n",
       "      <td>3226.0</td>\n",
       "      <td>3.0</td>\n",
       "      <td>1</td>\n",
       "      <td>0</td>\n",
       "      <td>1</td>\n",
       "      <td>0</td>\n",
       "      <td>0</td>\n",
       "      <td>0</td>\n",
       "      <td>0</td>\n",
       "      <td>1</td>\n",
       "      <td>0</td>\n",
       "      <td>0</td>\n",
       "      <td>0</td>\n",
       "      <td>0</td>\n",
       "      <td>0</td>\n",
       "      <td>0</td>\n",
       "      <td>0</td>\n",
       "      <td>0</td>\n",
       "      <td>0</td>\n",
       "      <td>1</td>\n",
       "      <td>0</td>\n",
       "      <td>0</td>\n",
       "      <td>0</td>\n",
       "      <td>1</td>\n",
       "    </tr>\n",
       "    <tr>\n",
       "      <th>99999</th>\n",
       "      <td>99999</td>\n",
       "      <td>0</td>\n",
       "      <td>3</td>\n",
       "      <td>0</td>\n",
       "      <td>0</td>\n",
       "      <td>20.0</td>\n",
       "      <td>0</td>\n",
       "      <td>5762.0</td>\n",
       "      <td>0.0</td>\n",
       "      <td>1</td>\n",
       "      <td>0</td>\n",
       "      <td>1</td>\n",
       "      <td>0</td>\n",
       "      <td>0</td>\n",
       "      <td>0</td>\n",
       "      <td>0</td>\n",
       "      <td>1</td>\n",
       "      <td>0</td>\n",
       "      <td>0</td>\n",
       "      <td>0</td>\n",
       "      <td>0</td>\n",
       "      <td>0</td>\n",
       "      <td>0</td>\n",
       "      <td>0</td>\n",
       "      <td>0</td>\n",
       "      <td>0</td>\n",
       "      <td>1</td>\n",
       "      <td>0</td>\n",
       "      <td>0</td>\n",
       "      <td>0</td>\n",
       "      <td>1</td>\n",
       "    </tr>\n",
       "  </tbody>\n",
       "</table>\n",
       "<p>100000 rows × 31 columns</p>\n",
       "</div>"
      ],
      "text/plain": [
       "       PassengerId  Survived  Pclass  SibSp  Parch  Ticket  has_Cabin  \\\n",
       "0                0         1       1      2      0    20.0          1   \n",
       "1                1         0       3      0      0    20.0          0   \n",
       "2                2         0       3      1      2    14.0          0   \n",
       "3                3         0       3      0      0     0.0          0   \n",
       "4                4         1       3      0      0    20.0          0   \n",
       "...            ...       ...     ...    ...    ...     ...        ...   \n",
       "99995        99995         1       2      0      0    22.0          1   \n",
       "99996        99996         0       2      0      0    20.0          0   \n",
       "99997        99997         0       3      0      0    20.0          0   \n",
       "99998        99998         0       3      0      1    20.0          0   \n",
       "99999        99999         0       3      0      0    20.0          0   \n",
       "\n",
       "       last_name  Family_Size  Sex_male  Embarked_Q  Embarked_S  \\\n",
       "0        14195.0          3.0         1           0           1   \n",
       "1         2495.0          0.0         1           0           1   \n",
       "2        14478.0          3.0         1           0           1   \n",
       "3        10435.0          0.0         1           0           1   \n",
       "4         1902.0          0.0         1           0           1   \n",
       "...          ...          ...       ...         ...         ...   \n",
       "99995     1301.0          0.0         0           0           0   \n",
       "99996     2436.0          0.0         1           0           1   \n",
       "99997     3463.0          0.0         1           0           1   \n",
       "99998     3226.0          3.0         1           0           1   \n",
       "99999     5762.0          0.0         1           0           1   \n",
       "\n",
       "       Age_bin_10-19  Age_bin_20-29  Age_bin_30-39  Age_bin_40-49  \\\n",
       "0                  0              0              1              0   \n",
       "1                  0              0              1              0   \n",
       "2                  0              0              0              0   \n",
       "3                  1              0              0              0   \n",
       "4                  0              1              0              0   \n",
       "...              ...            ...            ...            ...   \n",
       "99995              0              0              0              0   \n",
       "99996              0              0              0              0   \n",
       "99997              0              0              1              0   \n",
       "99998              0              0              0              0   \n",
       "99999              0              0              0              0   \n",
       "\n",
       "       Age_bin_50-59  Age_bin_60-69  Age_bin_70-79  Age_bin_80-89  Deck_B  \\\n",
       "0                  0              0              0              0       0   \n",
       "1                  0              0              0              0       0   \n",
       "2                  0              0              0              0       0   \n",
       "3                  0              0              0              0       0   \n",
       "4                  0              0              0              0       0   \n",
       "...              ...            ...            ...            ...     ...   \n",
       "99995              0              1              0              0       0   \n",
       "99996              0              1              0              0       0   \n",
       "99997              0              0              0              0       0   \n",
       "99998              1              0              0              0       0   \n",
       "99999              1              0              0              0       0   \n",
       "\n",
       "       Deck_C  Deck_D  Deck_E  Deck_F  Deck_G  Deck_N  Deck_T  Fare_bin_low  \\\n",
       "0           1       0       0       0       0       0       0             0   \n",
       "1           0       0       0       0       0       1       0             0   \n",
       "2           0       0       0       0       0       1       0             1   \n",
       "3           0       0       0       0       0       1       0             0   \n",
       "4           0       0       0       0       0       1       0             0   \n",
       "...       ...     ...     ...     ...     ...     ...     ...           ...   \n",
       "99995       0       1       0       0       0       0       0             0   \n",
       "99996       0       0       0       0       0       1       0             0   \n",
       "99997       0       0       0       0       0       1       0             0   \n",
       "99998       0       0       0       0       0       1       0             0   \n",
       "99999       0       0       0       0       0       1       0             0   \n",
       "\n",
       "       Fare_bin_middle  Fare_bin_very low  \n",
       "0                    0                  1  \n",
       "1                    0                  1  \n",
       "2                    0                  0  \n",
       "3                    0                  1  \n",
       "4                    0                  1  \n",
       "...                ...                ...  \n",
       "99995                0                  1  \n",
       "99996                0                  1  \n",
       "99997                0                  1  \n",
       "99998                0                  1  \n",
       "99999                0                  1  \n",
       "\n",
       "[100000 rows x 31 columns]"
      ]
     },
     "execution_count": 124,
     "metadata": {},
     "output_type": "execute_result"
    }
   ],
   "source": [
    "df_train"
   ]
  },
  {
   "cell_type": "markdown",
   "metadata": {},
   "source": [
    "### 交差検証（Cross-validation)を用いてLightGBMで学習"
   ]
  },
  {
   "cell_type": "markdown",
   "metadata": {},
   "source": [
    "交差検証(Cross-validation)のイメージ"
   ]
  },
  {
   "cell_type": "code",
   "execution_count": 143,
   "metadata": {},
   "outputs": [
    {
     "data": {
      "image/png": "[encoded data removed]",
      "text/plain": [
       "<IPython.core.display.Image object>"
      ]
     },
     "execution_count": 143,
     "metadata": {},
     "output_type": "execute_result"
    }
   ],
   "source": [
    "from IPython.display import Image\n",
    "# 画像ファイル名(パス)\n",
    "file_name = \"20150823195020.png\"\n",
    "# IPythonで画像の読み込みと表示\n",
    "Image(file_name)"
   ]
  },
  {
   "cell_type": "code",
   "execution_count": 129,
   "metadata": {},
   "outputs": [],
   "source": [
    "# Passengeridを削除\n",
    "df_train = df_train.drop(columns='PassengerId')\n",
    "df_test = df_test.drop(columns='PassengerId')"
   ]
  },
  {
   "cell_type": "code",
   "execution_count": 123,
   "metadata": {},
   "outputs": [],
   "source": [
    "# 分布に大きな不均衡がある場合に用いるKFold．\n",
    "# 分布(y=1)の比率を維持したままデータを訓練用とテスト用に分割する．\n",
    "from sklearn.model_selection import StratifiedKFold"
   ]
  },
  {
   "cell_type": "code",
   "execution_count": 147,
   "metadata": {},
   "outputs": [],
   "source": [
    "#どのFoldかの列を追加\n",
    "from sklearn.model_selection import StratifiedKFold\n",
    "\n",
    "skf = StratifiedKFold(n_splits=5)\n",
    "df_train['kfold'] = -1\n",
    "\n",
    "df_train = df_train.sample(frac=1).reset_index(drop=True)\n",
    "\n",
    "for fold, (train_idx, valid_idx) in enumerate(skf.split(X=df_train, y=df_train['Survived'])):\n",
    "    df_train.loc[valid_idx, 'kfold'] = fold"
   ]
  },
  {
   "cell_type": "code",
   "execution_count": 162,
   "metadata": {},
   "outputs": [],
   "source": [
    "# モデルのトレーニングを行う関数\n",
    "def run_training(algo, df, df_test, fold, oof):\n",
    "    #トレーニングデータをValidデータ\n",
    "    df_train = df[df.kfold != fold].reset_index(drop=True)\n",
    "    df_valid = df[df.kfold == fold].reset_index(drop=True)\n",
    "    \n",
    "    X_train = df_train.drop(['Survived', 'kfold'], axis=1)\n",
    "    X_valid = df_valid.drop(['Survived', 'kfold'], axis=1)\n",
    "    \n",
    "    #データを標準化\n",
    "    sc = StandardScaler()\n",
    "    X_train = sc.fit_transform(X_train)\n",
    "    X_valid = sc.transform(X_valid)\n",
    "    df_test = sc.transform(df_test)\n",
    "    \n",
    "    #目的変数を定義\n",
    "    y_train = df_train['Survived'].values\n",
    "    y_valid = df_valid['Survived'].values\n",
    "    \n",
    "    #モデルを学習\n",
    "    algo.fit(X_train, y_train)\n",
    "    \n",
    "    #学習結果をもとに予測\n",
    "    preds = algo.predict(X_valid)\n",
    "    proba = algo.predict_proba(df_test)[:, 1]\n",
    "    \n",
    "    fold_acc = accuracy_score(y_valid, preds)\n",
    "    \n",
    "    print(f'fold={fold+1}, accuracy={fold_acc}')\n",
    "    oof[valid_idx] += fold_acc\n",
    "    \n",
    "    return oof, proba, algo"
   ]
  },
  {
   "cell_type": "markdown",
   "metadata": {},
   "source": [
    "##### ランダムフォレストで学習"
   ]
  },
  {
   "cell_type": "code",
   "execution_count": 165,
   "metadata": {},
   "outputs": [
    {
     "name": "stdout",
     "output_type": "stream",
     "text": [
      "fold=1, accuracy=0.71735\n",
      "fold=2, accuracy=0.7138\n",
      "fold=3, accuracy=0.72215\n",
      "fold=4, accuracy=0.7137\n",
      "fold=5, accuracy=0.71835\n",
      "Mean accuracy after 5 folds 0.7170699999999998\n"
     ]
    }
   ],
   "source": [
    "from sklearn.ensemble import RandomForestClassifier\n",
    "from sklearn.metrics import accuracy_score, roc_auc_score\n",
    "\n",
    "rfc = RandomForestClassifier(n_estimators=150)\n",
    "\n",
    "df_proba = pd.DataFrame()\n",
    "test_proba = np.zeros(len(df_test))\n",
    "oof = np.zeros(len(df_train))\n",
    "for fold in range(5):\n",
    "    oof, proba, rfc_model = run_training(rfc,df_train, df_test, fold, oof)\n",
    "    test_proba += proba\n",
    "    \n",
    "df_proba['randomforest'] = test_proba / 5\n",
    "print(f'Mean accuracy after 5 folds {np.mean(oof)}')"
   ]
  },
  {
   "cell_type": "markdown",
   "metadata": {},
   "source": [
    "#### XGB boostで学習"
   ]
  },
  {
   "cell_type": "code",
   "execution_count": 167,
   "metadata": {},
   "outputs": [
    {
     "name": "stdout",
     "output_type": "stream",
     "text": [
      "[15:55:26] WARNING: ../src/learner.cc:1061: Starting in XGBoost 1.3.0, the default evaluation metric used with the objective 'binary:logistic' was changed from 'error' to 'logloss'. Explicitly set eval_metric if you'd like to restore the old behavior.\n",
      "fold=1, accuracy=0.78155\n",
      "[15:55:27] WARNING: ../src/learner.cc:1061: Starting in XGBoost 1.3.0, the default evaluation metric used with the objective 'binary:logistic' was changed from 'error' to 'logloss'. Explicitly set eval_metric if you'd like to restore the old behavior.\n",
      "fold=2, accuracy=0.7752\n",
      "[15:55:29] WARNING: ../src/learner.cc:1061: Starting in XGBoost 1.3.0, the default evaluation metric used with the objective 'binary:logistic' was changed from 'error' to 'logloss'. Explicitly set eval_metric if you'd like to restore the old behavior.\n",
      "fold=3, accuracy=0.7784\n",
      "[15:55:30] WARNING: ../src/learner.cc:1061: Starting in XGBoost 1.3.0, the default evaluation metric used with the objective 'binary:logistic' was changed from 'error' to 'logloss'. Explicitly set eval_metric if you'd like to restore the old behavior.\n",
      "fold=4, accuracy=0.77445\n",
      "[15:55:31] WARNING: ../src/learner.cc:1061: Starting in XGBoost 1.3.0, the default evaluation metric used with the objective 'binary:logistic' was changed from 'error' to 'logloss'. Explicitly set eval_metric if you'd like to restore the old behavior.\n",
      "fold=5, accuracy=0.7811\n",
      "Mean accuracy after 5 folds 0.7781400000000002\n"
     ]
    }
   ],
   "source": [
    "from xgboost import XGBClassifier\n",
    "\n",
    "xgb = XGBClassifier(use_label_encoder=False)\n",
    "\n",
    "test_proba = np.zeros(len(df_test))\n",
    "oof = np.zeros(len(df_train))\n",
    "for fold in range(5):\n",
    "    oof, proba, xgb_model = run_training(xgb,df_train, df_test, fold, oof)\n",
    "    test_proba += proba\n",
    "    \n",
    "df_proba['xgboost'] = test_proba / 5\n",
    "print(f'Mean accuracy after 5 folds {np.mean(oof)}')"
   ]
  },
  {
   "cell_type": "markdown",
   "metadata": {},
   "source": [
    "#### Lightgbmで学習"
   ]
  },
  {
   "cell_type": "code",
   "execution_count": 168,
   "metadata": {},
   "outputs": [
    {
     "name": "stdout",
     "output_type": "stream",
     "text": [
      "fold=1, accuracy=0.7848\n",
      "fold=2, accuracy=0.77815\n",
      "fold=3, accuracy=0.7816\n",
      "fold=4, accuracy=0.7776\n",
      "fold=5, accuracy=0.7843\n",
      "Mean accuracy after 5 folds 0.78129\n"
     ]
    }
   ],
   "source": [
    "from lightgbm import LGBMClassifier\n",
    "\n",
    "lgbm = LGBMClassifier()\n",
    "\n",
    "test_proba = np.zeros(len(df_test))\n",
    "oof = np.zeros(len(df_train))\n",
    "for fold in range(5):\n",
    "    oof, proba, lgbm_model = run_training(lgbm,df_train, df_test, fold, oof)\n",
    "    test_proba += proba\n",
    "    \n",
    "df_proba['lgbm'] = test_proba / 5\n",
    "print(f'Mean accuracy after 5 folds {np.mean(oof)}'')"
   ]
  },
  {
   "cell_type": "code",
   "execution_count": 172,
   "metadata": {},
   "outputs": [
    {
     "data": {
      "text/html": [
       "<div>\n",
       "<style scoped>\n",
       "    .dataframe tbody tr th:only-of-type {\n",
       "        vertical-align: middle;\n",
       "    }\n",
       "\n",
       "    .dataframe tbody tr th {\n",
       "        vertical-align: top;\n",
       "    }\n",
       "\n",
       "    .dataframe thead th {\n",
       "        text-align: right;\n",
       "    }\n",
       "</style>\n",
       "<table border=\"1\" class=\"dataframe\">\n",
       "  <thead>\n",
       "    <tr style=\"text-align: right;\">\n",
       "      <th></th>\n",
       "      <th>randomforest</th>\n",
       "      <th>xgboost</th>\n",
       "      <th>lgbm</th>\n",
       "    </tr>\n",
       "  </thead>\n",
       "  <tbody>\n",
       "    <tr>\n",
       "      <th>0</th>\n",
       "      <td>0.004000</td>\n",
       "      <td>0.080496</td>\n",
       "      <td>0.096838</td>\n",
       "    </tr>\n",
       "    <tr>\n",
       "      <th>1</th>\n",
       "      <td>0.533467</td>\n",
       "      <td>0.519536</td>\n",
       "      <td>0.548846</td>\n",
       "    </tr>\n",
       "    <tr>\n",
       "      <th>2</th>\n",
       "      <td>0.941333</td>\n",
       "      <td>0.902496</td>\n",
       "      <td>0.900221</td>\n",
       "    </tr>\n",
       "    <tr>\n",
       "      <th>3</th>\n",
       "      <td>0.295330</td>\n",
       "      <td>0.193759</td>\n",
       "      <td>0.208698</td>\n",
       "    </tr>\n",
       "    <tr>\n",
       "      <th>4</th>\n",
       "      <td>0.493333</td>\n",
       "      <td>0.812436</td>\n",
       "      <td>0.787192</td>\n",
       "    </tr>\n",
       "    <tr>\n",
       "      <th>...</th>\n",
       "      <td>...</td>\n",
       "      <td>...</td>\n",
       "      <td>...</td>\n",
       "    </tr>\n",
       "    <tr>\n",
       "      <th>99995</th>\n",
       "      <td>0.493333</td>\n",
       "      <td>0.718186</td>\n",
       "      <td>0.696257</td>\n",
       "    </tr>\n",
       "    <tr>\n",
       "      <th>99996</th>\n",
       "      <td>0.082667</td>\n",
       "      <td>0.114533</td>\n",
       "      <td>0.133424</td>\n",
       "    </tr>\n",
       "    <tr>\n",
       "      <th>99997</th>\n",
       "      <td>0.057333</td>\n",
       "      <td>0.109704</td>\n",
       "      <td>0.100294</td>\n",
       "    </tr>\n",
       "    <tr>\n",
       "      <th>99998</th>\n",
       "      <td>0.434667</td>\n",
       "      <td>0.623060</td>\n",
       "      <td>0.642874</td>\n",
       "    </tr>\n",
       "    <tr>\n",
       "      <th>99999</th>\n",
       "      <td>0.833333</td>\n",
       "      <td>0.852919</td>\n",
       "      <td>0.849410</td>\n",
       "    </tr>\n",
       "  </tbody>\n",
       "</table>\n",
       "<p>100000 rows × 3 columns</p>\n",
       "</div>"
      ],
      "text/plain": [
       "       randomforest   xgboost      lgbm\n",
       "0          0.004000  0.080496  0.096838\n",
       "1          0.533467  0.519536  0.548846\n",
       "2          0.941333  0.902496  0.900221\n",
       "3          0.295330  0.193759  0.208698\n",
       "4          0.493333  0.812436  0.787192\n",
       "...             ...       ...       ...\n",
       "99995      0.493333  0.718186  0.696257\n",
       "99996      0.082667  0.114533  0.133424\n",
       "99997      0.057333  0.109704  0.100294\n",
       "99998      0.434667  0.623060  0.642874\n",
       "99999      0.833333  0.852919  0.849410\n",
       "\n",
       "[100000 rows x 3 columns]"
      ]
     },
     "execution_count": 172,
     "metadata": {},
     "output_type": "execute_result"
    }
   ],
   "source": [
    "# 各モデルの予測値（Survived=1）の確立が入ったdataframe\n",
    "df_proba"
   ]
  },
  {
   "cell_type": "code",
   "execution_count": 174,
   "metadata": {},
   "outputs": [],
   "source": [
    "df_proba['ensemble'] = 0.2 * df_proba['randomforest'] + 0.2 * df_proba['xgboost'] + 0.5 * df_proba['lgbm']\n",
    "df_proba['ensemble_binary'] = np.where(df_proba['ensemble'] > 0.5, 1, 0)"
   ]
  },
  {
   "cell_type": "code",
   "execution_count": 175,
   "metadata": {},
   "outputs": [],
   "source": [
    "submission = df_sample.copy()"
   ]
  },
  {
   "cell_type": "code",
   "execution_count": 177,
   "metadata": {},
   "outputs": [],
   "source": [
    "submission['Survived'] = df_proba['ensemble_binary'].values\n",
    "submission.to_csv('ensemble_sub.csv',index=False)"
   ]
  },
  {
   "cell_type": "code",
   "execution_count": 178,
   "metadata": {},
   "outputs": [
    {
     "data": {
      "text/html": [
       "<div>\n",
       "<style scoped>\n",
       "    .dataframe tbody tr th:only-of-type {\n",
       "        vertical-align: middle;\n",
       "    }\n",
       "\n",
       "    .dataframe tbody tr th {\n",
       "        vertical-align: top;\n",
       "    }\n",
       "\n",
       "    .dataframe thead th {\n",
       "        text-align: right;\n",
       "    }\n",
       "</style>\n",
       "<table border=\"1\" class=\"dataframe\">\n",
       "  <thead>\n",
       "    <tr style=\"text-align: right;\">\n",
       "      <th></th>\n",
       "      <th>PassengerId</th>\n",
       "      <th>Survived</th>\n",
       "    </tr>\n",
       "  </thead>\n",
       "  <tbody>\n",
       "    <tr>\n",
       "      <th>0</th>\n",
       "      <td>100000</td>\n",
       "      <td>0</td>\n",
       "    </tr>\n",
       "    <tr>\n",
       "      <th>1</th>\n",
       "      <td>100001</td>\n",
       "      <td>0</td>\n",
       "    </tr>\n",
       "    <tr>\n",
       "      <th>2</th>\n",
       "      <td>100002</td>\n",
       "      <td>1</td>\n",
       "    </tr>\n",
       "    <tr>\n",
       "      <th>3</th>\n",
       "      <td>100003</td>\n",
       "      <td>0</td>\n",
       "    </tr>\n",
       "    <tr>\n",
       "      <th>4</th>\n",
       "      <td>100004</td>\n",
       "      <td>1</td>\n",
       "    </tr>\n",
       "    <tr>\n",
       "      <th>...</th>\n",
       "      <td>...</td>\n",
       "      <td>...</td>\n",
       "    </tr>\n",
       "    <tr>\n",
       "      <th>99995</th>\n",
       "      <td>199995</td>\n",
       "      <td>1</td>\n",
       "    </tr>\n",
       "    <tr>\n",
       "      <th>99996</th>\n",
       "      <td>199996</td>\n",
       "      <td>0</td>\n",
       "    </tr>\n",
       "    <tr>\n",
       "      <th>99997</th>\n",
       "      <td>199997</td>\n",
       "      <td>0</td>\n",
       "    </tr>\n",
       "    <tr>\n",
       "      <th>99998</th>\n",
       "      <td>199998</td>\n",
       "      <td>1</td>\n",
       "    </tr>\n",
       "    <tr>\n",
       "      <th>99999</th>\n",
       "      <td>199999</td>\n",
       "      <td>1</td>\n",
       "    </tr>\n",
       "  </tbody>\n",
       "</table>\n",
       "<p>100000 rows × 2 columns</p>\n",
       "</div>"
      ],
      "text/plain": [
       "       PassengerId  Survived\n",
       "0           100000         0\n",
       "1           100001         0\n",
       "2           100002         1\n",
       "3           100003         0\n",
       "4           100004         1\n",
       "...            ...       ...\n",
       "99995       199995         1\n",
       "99996       199996         0\n",
       "99997       199997         0\n",
       "99998       199998         1\n",
       "99999       199999         1\n",
       "\n",
       "[100000 rows x 2 columns]"
      ]
     },
     "execution_count": 178,
     "metadata": {},
     "output_type": "execute_result"
    }
   ],
   "source": [
    "submission "
   ]
  }
 ],
 "metadata": {
  "kernelspec": {
   "display_name": "Python 3",
   "language": "python",
   "name": "python3"
  },
  "language_info": {
   "codemirror_mode": {
    "name": "ipython",
    "version": 3
   },
   "file_extension": ".py",
   "mimetype": "text/x-python",
   "name": "python",
   "nbconvert_exporter": "python",
   "pygments_lexer": "ipython3",
   "version": "3.8.5"
  }
 },
 "nbformat": 4,
 "nbformat_minor": 4
}
